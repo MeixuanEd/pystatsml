{
 "cells": [
  {
   "cell_type": "markdown",
   "metadata": {},
   "source": [
    "# Resampling Methods"
   ]
  },
  {
   "cell_type": "code",
   "execution_count": null,
   "metadata": {},
   "outputs": [],
   "source": [
    "import matplotlib.pyplot as plt\n",
    "import warnings\n",
    "\n",
    "warnings.filterwarnings('ignore')\n",
    "%matplotlib inline"
   ]
  },
  {
   "cell_type": "markdown",
   "metadata": {},
   "source": [
    "## Train, Validation and Test Sets\n",
    "\n",
    "Machine learning algorithms overfit taining data. Predictive performances **MUST** be evaluated on independant hold-out dataset.\n",
    "\n",
    "![Train, validation and test sets.](images/train_val_test_cv.png)\n",
    "\n",
    "1. **Training dataset**: Dataset used to fit the model (set the model parameters like weights). The *training error* can be easily calculated by applying the statistical learning method to the observations used in its training. But because of overfitting, the **training error rate can dramatically underestimate the error** that would be obtained on new samples.\n",
    "\n",
    "2. **Validation dataset**: Dataset used to provide an unbiased evaluation of a model fit on the training dataset while **tuning model hyperparameters**, ie. **Model selection**. The validation error is the average error that results from a learning method to predict the response on a new (validation) samples that is, on samples that were not used in training the method. \n",
    "\n",
    "2. **Test dataset**: Dataset used to provide an unbiased **evaluation of a final model** fitted on the training dataset. It is only used once a model is completely trained(using the train and validation sets).\n",
    "\n",
    "What is the Difference Between Test and Validation Datasets? by [Jason Brownlee](https://machinelearningmastery.com/difference-test-validation-datasets/)\n",
    "\n",
    "Thus the original dataset is generally split in a training, validation and a test data sets. Large training+validation set (80%) small test set (20%) might provide a poor estimation of the predictive performances (same argument stands for train vs validation samples). On the contrary, large test set and small training set might produce a poorly estimated learner. This is why, on situation where we cannot afford such split, cross-validation scheme can be use for model selection or/and for model evaluation.\n",
    "\n",
    "If sample size is limited, train/validation/test split may not be possible. **Cross Validation (CV)** (see below) can be used to replace:\n",
    "\n",
    "- Outer (train/test) split of model evaluation.\n",
    "- Inner train/validation split of model selection (more frequent situation).\n",
    "- Inner and outer splits, leading to two nested CV."
   ]
  },
  {
   "cell_type": "code",
   "execution_count": null,
   "metadata": {},
   "outputs": [],
   "source": [
    "import numpy as np\n",
    "from sklearn import datasets\n",
    "import sklearn.linear_model as lm\n",
    "from sklearn.model_selection import train_test_split, KFold, PredefinedSplit\n",
    "from sklearn.model_selection import cross_val_score, GridSearchCV\n",
    "\n",
    "import sklearn.metrics as metrics\n",
    "X, y = datasets.make_regression(n_samples=100, n_features=100, \n",
    "                         n_informative=10, random_state=42)"
   ]
  },
  {
   "cell_type": "markdown",
   "metadata": {},
   "source": [
    "#### 1. Split dataset in train/test sets for model (outer) evaluation"
   ]
  },
  {
   "cell_type": "code",
   "execution_count": null,
   "metadata": {},
   "outputs": [],
   "source": [
    "X_train, X_test, y_train, y_test = train_test_split(X, y, test_size=0.25, random_state=42)"
   ]
  },
  {
   "cell_type": "markdown",
   "metadata": {},
   "source": [
    "#### 1.1 Predefined train/validation split for model (inner) selection\n",
    "\n",
    "Re-split train set into train/validation and build a CV object (inner split) out of it:"
   ]
  },
  {
   "cell_type": "code",
   "execution_count": null,
   "metadata": {},
   "outputs": [],
   "source": [
    "train_idx, validation_idx = train_test_split(np.arange(X_train.shape[0]),\n",
    "                                             test_size=0.25, random_state=42)\n",
    "split_inner = PredefinedSplit(test_fold=validation_idx)\n",
    "print(\"Train set size: %i\" % X_train[train_idx].shape[0])\n",
    "print(\"Validation set size: %i\" % X_train[validation_idx].shape[0])\n",
    "print(\"Test set size: %i\" % X_test.shape[0])\n",
    "\n",
    "lm_cv = GridSearchCV(lm.Ridge(), {'alpha': 10. ** np.arange(-3, 3)},\n",
    "                     cv=split_inner, n_jobs=5)\n",
    "\n",
    "# Fit, indluding model selection with internal Train/validation split\n",
    "lm_cv.fit(X_train, y_train)\n",
    "\n",
    "# Predict\n",
    "y_pred_test = lm_cv.predict(X_test)\n",
    "print(\"Test R2: %.2f\" % metrics.r2_score(y_test, y_pred_test))"
   ]
  },
  {
   "cell_type": "markdown",
   "metadata": {},
   "source": [
    "#### 1.2 Cross-validation for model (inner) selection"
   ]
  },
  {
   "cell_type": "code",
   "execution_count": null,
   "metadata": {},
   "outputs": [],
   "source": [
    "cv_inner = KFold(n_splits=5, shuffle=True, random_state=42)\n",
    "\n",
    "print(\"Train/Validation set sizes: \",\n",
    "      [[len(tr), len(ev)] for tr, ev in cv_inner.split(X_train)])\n",
    "print(\"Test set size: %i\" % X_test.shape[0])\n",
    "\n",
    "# Cross-validation for model selection\n",
    "lm_cv = GridSearchCV(lm.Ridge(), {'alpha': 10. ** np.arange(-3, 3)},\n",
    "                     cv=cv_inner, n_jobs=5)\n",
    "\n",
    "# Fit, indluding model selection with internal CV\n",
    "lm_cv.fit(X_train, y_train)\n",
    "\n",
    "# Predict\n",
    "y_pred_test = lm_cv.predict(X_test)\n",
    "print(\"Test R2: %.2f\" % metrics.r2_score(y_test, y_pred_test))"
   ]
  },
  {
   "cell_type": "markdown",
   "metadata": {},
   "source": [
    "#### 2. Cross-validation for both model (outer) evaluation and model (inner) selection"
   ]
  },
  {
   "cell_type": "code",
   "execution_count": null,
   "metadata": {},
   "outputs": [],
   "source": [
    "cv_outer = KFold(n_splits=5, shuffle=True, random_state=42)\n",
    "\n",
    "sizes = pd.DataFrame([[len(train), len(eva), len(test)]\n",
    "       for tr_outer, test in cv_outer.split(X)\n",
    "       for train, eva in cv_inner.split(X[tr_outer])\n",
    "      ], columns=[\"train\", 'validation', 'test'])\n",
    "\n",
    "print(\"Train/Validation set sizes: \")\n",
    "print(sizes.iloc[np.r_[0:4, -4:0]])\n",
    "print(\"Nb runs: %i (nb outer folds x nb inner folds)\" % sizes.shape[0])\n",
    "\n",
    "# Cross-validation for model (inner) selection\n",
    "lm_cv = GridSearchCV(lm.Ridge(), {'alpha': 10. ** np.arange(-3, 3)}, cv=cv_inner, n_jobs=5)\n",
    "\n",
    "# Cross-validation for model (outer) evaluation\n",
    "scores = cross_val_score(estimator=lm_cv, X=X, y=y, cv=cv_outer)\n",
    "\n",
    "print(\"CV R2:%.2f\" % scores.mean())"
   ]
  },
  {
   "cell_type": "markdown",
   "metadata": {},
   "source": [
    "\n",
    "## Cross-Validation (CV)\n",
    "\n",
    "Cross-Validation scheme randomly divides the set of observations into $K$ groups, or **folds**, of approximately equal size. The first fold is treated as a validation set, and the method $f()$ is fitted on the remaining union of $K - 1$ folds: ($f(\\boldsymbol{X}_{-K}, \\boldsymbol{y}_{-K})$).\n",
    "\n",
    "The measure of performance (the score function $\\mathcal{S}$), either a error measure or an correct prediction measure is an average of a loss error or correct prediction measure, noted $\\mathcal{L}$, between a true target value and the predicted target value. The score function is evaluated of the on the observations in the held-out fold. For each sample $i$ we consider the model estimated $f(\\boldsymbol{X}_{-k(i)}, \\boldsymbol{y}_{-k(i)}$ on the data set without the group $k$ that contains $i$ noted $-k(i)$. This procedure is repeated $K$ times; each time, a different group of observations is treated as a test set.\n",
    "Then we compare the predicted value ($f_{-k(i)}(\\boldsymbol{x}_i) = \\hat{y_i})$ with true value $y_i$ using a Error or Loss function $\\mathcal{L}(y, \\hat{y})$.\n",
    "\n",
    "For 10-fold we can either average over 10 values (Macro measure) or concatenate the 10 experiments and compute the micro measures.\n",
    "\n",
    "Two strategies [micro vs macro estimates](https://stats.stackexchange.com/questions/34611/meanscores-vs-scoreconcatenation-in-cross-validation):\n",
    "\n",
    "\n",
    "**Micro measure: average(individual scores)**: compute a score $\\mathcal{S}$ for each sample and average over all samples. It is simillar to **average score(concatenation)**: an averaged score computed over all concatenated samples.\n",
    "$$\n",
    "\\mathcal{S}(f) = \\frac{1}{N} \\sum_i^N \\mathcal{L}\\left(y_i, f(\\boldsymbol{x}_{-k(i)}, \\boldsymbol{y}_{-k(i)}) \\right).\n",
    "$$\n",
    "\n",
    "\n",
    "**Macro measure mean(CV scores)** (the most commonly used method): compute a score $\\mathcal{S}$ on each each fold $k$ and average accross folds:\n",
    " \n",
    "\\begin{align*}\n",
    "\\mathcal{S}(f) &= \\frac{1}{K} \\sum_k^K \\mathcal{S}_k(f).\\\\\n",
    "\\mathcal{S}(f) &= \\frac{1}{K} \\sum_k^K \\frac{1}{N_k} \\sum_{i \\in k} \\mathcal{L}\\left(y_i, f(\\boldsymbol{x}_{-k(i)}, \\boldsymbol{y}_{-k(i)}) \\right).\n",
    "\\end{align*}\n",
    "\n",
    "These two measures (an average of average vs. a global average) are generaly similar. They may differ slightly is folds are of different sizes.\n",
    "\n",
    "This validation scheme is known as the **K-Fold CV**. Typical choices of $K$ are 5 or 10, [Kohavi 1995]. The extreme case where $K = N$ is known as **leave-one-out cross-validation, LOO-CV**."
   ]
  },
  {
   "cell_type": "markdown",
   "metadata": {},
   "source": [
    "### CV for regression\n",
    "\n",
    "Usually the error function $\\mathcal{L}()$ is the r-squared score. However other function could be used."
   ]
  },
  {
   "cell_type": "code",
   "execution_count": null,
   "metadata": {},
   "outputs": [],
   "source": [
    "import numpy as np\n",
    "import sklearn.metrics as metrics\n",
    "from sklearn.model_selection import KFold\n",
    "\n",
    "estimator = lm.Ridge(alpha=10)\n",
    "\n",
    "cv = KFold(n_splits=5, random_state=42)\n",
    "r2_train, r2_test = list(), list()\n",
    "\n",
    "for train, test in cv.split(X):\n",
    "    estimator.fit(X[train, :], y[train])\n",
    "    r2_train.append(metrics.r2_score(y[train], estimator.predict(X[train, :])))\n",
    "    r2_test.append(metrics.r2_score(y[test], estimator.predict(X[test, :])))    \n",
    "\n",
    "print(\"Train r2:%.2f\" % np.mean(r2_train))\n",
    "print(\"Test  r2:%.2f\" % np.mean(r2_test))"
   ]
  },
  {
   "cell_type": "markdown",
   "metadata": {},
   "source": [
    "Scikit-learn provides user-friendly function to perform CV:"
   ]
  },
  {
   "cell_type": "code",
   "execution_count": null,
   "metadata": {},
   "outputs": [],
   "source": [
    "from sklearn.model_selection import cross_val_score\n",
    "\n",
    "scores = cross_val_score(estimator=estimator, X=X, y=y, cv=5)\n",
    "print(\"Test  r2:%.2f\" % scores.mean())\n",
    "\n",
    "# provide a cv\n",
    "cv = KFold(n_splits=5, random_state=42)\n",
    "scores = cross_val_score(estimator=estimator, X=X, y=y, cv=cv)\n",
    "print(\"Test  r2:%.2f\" % scores.mean())"
   ]
  },
  {
   "cell_type": "markdown",
   "metadata": {},
   "source": [
    "### CV for classification\n",
    "\n",
    "With classification problems it is essential to sample folds where each set contains approximately the same percentage of samples of each target class as the complete set. This is called **stratification**. In this case, we will use ``StratifiedKFold`` with is a variation of k-fold which returns stratified folds.\n",
    "\n",
    "Usually the error function $L()$ are, at least, the sensitivity and the specificity. However other function could be used."
   ]
  },
  {
   "cell_type": "code",
   "execution_count": null,
   "metadata": {},
   "outputs": [],
   "source": [
    "import numpy as np\n",
    "from sklearn import datasets\n",
    "import sklearn.linear_model as lm\n",
    "import sklearn.metrics as metrics\n",
    "from sklearn.model_selection import StratifiedKFold\n",
    "\n",
    "X, y = datasets.make_classification(n_samples=100, n_features=100, \n",
    "                         n_informative=10, random_state=42)\n",
    "\n",
    "estimator = lm.LogisticRegression(C=1, solver='lbfgs')\n",
    "\n",
    "cv = StratifiedKFold(n_splits=5)\n",
    "\n",
    "# Lists to store scores by folds (for macro measure only)\n",
    "recalls_train, recalls_test, acc_test = list(), list(), list()\n",
    "\n",
    "# Or vector of test predictions (for both macro and micro measures, not for training samples)\n",
    "y_test_pred = np.zeros(len(y))\n",
    "\n",
    "for train, test in cv.split(X, y):\n",
    "    estimator.fit(X[train, :], y[train])\n",
    "    recalls_train.append(metrics.recall_score(y[train], estimator.predict(X[train, :]), average=None))\n",
    "    recalls_test.append(metrics.recall_score(y[test], estimator.predict(X[test, :]), average=None))\n",
    "    acc_test.append(metrics.accuracy_score(y[test], estimator.predict(X[test, :])))\n",
    "\n",
    "    # Store test predictions (for micro measures)\n",
    "    y_test_pred[test] = estimator.predict(X[test, :])\n",
    "\n",
    "print(\"== Macro measures ==\")\n",
    "# Use lists of scores\n",
    "recalls_train = np.array(recalls_train)\n",
    "recalls_test = np.array(recalls_test)\n",
    "print(\"Train SPC:%.2f; SEN:%.2f\" % tuple(recalls_train.mean(axis=0)))\n",
    "print(\"Test  SPC:%.2f; SEN:%.2f\" % tuple(recalls_test.mean(axis=0)), )\n",
    "print(\"Test  ACC:%.2f, ballanced ACC:%.2f\" %\n",
    "      (np.mean(acc_test), recalls_test.mean(axis=1).mean()), \"Folds:\", acc_test)\n",
    "\n",
    "# Or use vector to test predictions\n",
    "acc_test = [metrics.accuracy_score(y[test], y_test_pred[test]) for train, test in cv.split(X, y)]\n",
    "print(\"Test  ACC:%.2f\" % np.mean(acc_test), \"Folds:\", acc_test)\n",
    "\n",
    "print(\"== Micro measures ==\")\n",
    "print(\"Test SPC:%.2f; SEN:%.2f\" % \\\n",
    "      tuple(metrics.recall_score(y, y_test_pred, average=None)))\n",
    "print(\"Test  ACC:%.2f\" % metrics.accuracy_score(y, y_test_pred))"
   ]
  },
  {
   "cell_type": "markdown",
   "metadata": {},
   "source": [
    "Scikit-learn provides user-friendly function to perform CV:"
   ]
  },
  {
   "cell_type": "code",
   "execution_count": null,
   "metadata": {},
   "outputs": [],
   "source": [
    "from sklearn.model_selection import cross_val_score\n",
    "\n",
    "scores = cross_val_score(estimator=estimator, X=X, y=y, cv=5)\n",
    "scores.mean()\n",
    "\n",
    "# provide CV and score\n",
    "def balanced_acc(estimator, X, y, **kwargs):\n",
    "    '''\n",
    "    Balanced acuracy scorer\n",
    "    '''\n",
    "    return metrics.recall_score(y, estimator.predict(X), average=None).mean()\n",
    "\n",
    "scores = cross_val_score(estimator=estimator, X=X, y=y, cv=5, scoring=balanced_acc)\n",
    "print(\"Test  ACC:%.2f\" % scores.mean())"
   ]
  },
  {
   "cell_type": "markdown",
   "metadata": {},
   "source": [
    "Note that with Scikit-learn user-friendly function we average the scores' average obtained on individual folds which may provide slightly different results that the overall average presented earlier."
   ]
  },
  {
   "cell_type": "markdown",
   "metadata": {},
   "source": [
    "## Parallel computation with joblib\n",
    "\n",
    "Dataset"
   ]
  },
  {
   "cell_type": "code",
   "execution_count": null,
   "metadata": {},
   "outputs": [],
   "source": [
    "import numpy as np\n",
    "from sklearn import datasets\n",
    "import sklearn.linear_model as lm\n",
    "import sklearn.metrics as metrics\n",
    "from sklearn.model_selection import StratifiedKFold\n",
    "X, y = datasets.make_classification(n_samples=20, n_features=5, n_informative=2, random_state=42)\n",
    "cv = StratifiedKFold(n_splits=5)"
   ]
  },
  {
   "cell_type": "markdown",
   "metadata": {},
   "source": [
    "### Use `cross_validate` function"
   ]
  },
  {
   "cell_type": "code",
   "execution_count": null,
   "metadata": {},
   "outputs": [],
   "source": [
    "from sklearn.model_selection import cross_validate\n",
    "\n",
    "estimator = lm.LogisticRegression(C=1, solver='lbfgs')\n",
    "cv_results = cross_validate(estimator, X, y, cv=cv, n_jobs=5)\n",
    "print(np.mean(cv_results['test_score']), cv_results['test_score'])"
   ]
  },
  {
   "cell_type": "markdown",
   "metadata": {},
   "source": [
    "### Sequential computation\n",
    "\n",
    "If we want have full control of the operations performed within each fold (retrieve the models parameters, etc.). We would like to parallelize the folowing sequetial code:"
   ]
  },
  {
   "cell_type": "code",
   "execution_count": null,
   "metadata": {},
   "outputs": [],
   "source": [
    "estimator = lm.LogisticRegression(C=1, solver='lbfgs')\n",
    "y_test_pred_seq = np.zeros(len(y)) # Store predictions in the original order\n",
    "coefs_seq = list()\n",
    "for train, test in cv.split(X, y):\n",
    "    X_train, X_test, y_train, y_test = X[train, :], X[test, :], y[train], y[test]\n",
    "    estimator.fit(X_train, y_train)\n",
    "    y_test_pred_seq[test] = estimator.predict(X_test)\n",
    "    coefs_seq.append(estimator.coef_)\n",
    "\n",
    "test_accs = [metrics.accuracy_score(y[test], y_test_pred_seq[test]) for train, test in cv.split(X, y)]\n",
    "print(np.mean(test_accs), test_accs)\n",
    "coefs_cv = np.array(coefs_seq)\n",
    "print(coefs_cv)\n",
    "\n",
    "print(coefs_cv.mean(axis=0))\n",
    "print(\"Std Err of the coef\")\n",
    "print(coefs_cv.std(axis=0) / np.sqrt(coefs_cv.shape[0]))"
   ]
  },
  {
   "cell_type": "markdown",
   "metadata": {},
   "source": [
    "### Parallel computation with joblib"
   ]
  },
  {
   "cell_type": "code",
   "execution_count": null,
   "metadata": {},
   "outputs": [],
   "source": [
    "from joblib import Parallel, delayed\n",
    "from sklearn.base import is_classifier, clone\n",
    "\n",
    "def _split_fit_predict(estimator, X, y, train, test):\n",
    "    X_train, X_test, y_train, y_test = X[train, :], X[test, :], y[train], y[test]\n",
    "    estimator.fit(X_train, y_train)\n",
    "    return [estimator.predict(X_test), estimator.coef_]\n",
    "\n",
    "estimator = lm.LogisticRegression(C=1, solver='lbfgs')\n",
    "\n",
    "parallel = Parallel(n_jobs=5)\n",
    "cv_ret = parallel(\n",
    "    delayed(_split_fit_predict)(\n",
    "        clone(estimator), X, y, train, test)\n",
    "    for train, test in cv.split(X, y))\n",
    "\n",
    "y_test_pred_cv, coefs_cv = zip(*cv_ret)\n",
    "\n",
    "# Retrieve predictions in the original order\n",
    "y_test_pred = np.zeros(len(y))\n",
    "for i, (train, test) in enumerate(cv.split(X, y)):\n",
    "    y_test_pred[test] = y_test_pred_cv[i]\n",
    "\n",
    "test_accs = [metrics.accuracy_score(y[test], y_test_pred[test]) for train, test in cv.split(X, y)]\n",
    "print(np.mean(test_accs), test_accs)"
   ]
  },
  {
   "cell_type": "markdown",
   "metadata": {},
   "source": [
    "Test same predictions and same coeficients"
   ]
  },
  {
   "cell_type": "code",
   "execution_count": null,
   "metadata": {},
   "outputs": [],
   "source": [
    "assert np.all(y_test_pred == y_test_pred_seq)\n",
    "assert np.allclose(np.array(coefs_cv).squeeze(), np.array(coefs_seq).squeeze())"
   ]
  },
  {
   "cell_type": "markdown",
   "metadata": {},
   "source": [
    "## CV for model selection: setting the hyper parameters\n",
    "\n",
    "It is important to note CV may be used for two separate goals:\n",
    "\n",
    "1. **Model assessment**: having chosen a final model, estimating its prediction error (generalization error) on new data.\n",
    "\n",
    "2. **Model selection**: estimating the performance of different models in order to choose the best one. One special case of model selection is the selection model's hyper parameters. Indeed remember that most of learning algorithm have a hyper parameters (typically the regularization parameter) that has to be set.\n",
    "\n",
    "Generally we must address the two problems simultaneously. The usual approach for both problems is to randomly divide the dataset into three parts: a training set, a validation set, and a test set.\n",
    "\n",
    "- The **training set** (train) is used to fit the models;\n",
    "\n",
    "- the **validation set** (val) is used to estimate prediction error for model selection or to determine the hyper parameters over a grid of possible values.\n",
    "\n",
    "- the **test set** (test) is used for assessment of the generalization error of the final chosen model.\n",
    "\n",
    "\n",
    "### Grid search procedure\n",
    "\n",
    "Model selection of the best hyper parameters over a grid of possible values\n",
    "\n",
    "For each possible values of hyper parameters $\\alpha_k$:\n",
    "\n",
    "1. Fit the learner on training set: $f(X_{train}, y_{train}, \\alpha_k)$\n",
    "\n",
    "2. Evaluate the model on the validation set and keep the parameter(s) that minimises the error measure\n",
    "\n",
    "    $\\alpha_* = \\arg \\min L(f(X_{train}), y_{val}, \\alpha_k)$\n",
    "\n",
    "3. Refit the learner on all training + validation data using the best hyper parameters: $f^* \\equiv f(X_{train \\cup val}, y_{train \\cup val}, \\alpha_*)$\n",
    "\n",
    "4. ** Model assessment ** of $f^*$ on the test set: $L(f^*(X_{test}), y_{test})$\n",
    "\n",
    "### Nested CV for model selection and assessment\n",
    "\n",
    "Most of time, we cannot afford such three-way split. Thus, again we will use CV, but in this case we need two nested CVs.\n",
    "\n",
    "One **outer CV loop, for model assessment**. This CV performs $K$ splits of the dataset into training plus validation ($X_{-K}, y_{-K}$) set and a test set $X_{K}, y_{K}$\n",
    "\n",
    "One **inner CV loop, for model selection**. For each run of the outer loop, the inner loop loop performs $L$ splits of dataset ($X_{-K}, y_{-K}$) into training set: ($X_{-K,-L}, y_{-K,-L}$) and a validation set: ($X_{-K,L}, y_{-K,L}$).\n",
    "\n",
    "### Implementation with scikit-learn\n",
    "\n",
    "Note that the inner CV loop combined with the learner form a new learner with an automatic model (parameter) selection procedure. This new learner can be easily constructed using Scikit-learn. The learned is wrapped inside a ``GridSearchCV`` class.\n",
    "\n",
    "Then the new learned can be plugged into the classical outer CV loop."
   ]
  },
  {
   "cell_type": "code",
   "execution_count": null,
   "metadata": {},
   "outputs": [],
   "source": [
    "import numpy as np\n",
    "from sklearn import datasets\n",
    "import sklearn.linear_model as lm\n",
    "from sklearn.model_selection import GridSearchCV\n",
    "import sklearn.metrics as metrics\n",
    "from sklearn.model_selection import KFold\n",
    "\n",
    "# Dataset\n",
    "noise_sd = 10\n",
    "X, y, coef = datasets.make_regression(n_samples=50, n_features=100, noise=noise_sd,\n",
    "                         n_informative=2, random_state=42, coef=True)\n",
    " \n",
    "# Use this to tune the noise parameter such that snr < 5\n",
    "print(\"SNR:\", np.std(np.dot(X, coef)) / noise_sd)\n",
    "\n",
    "# param grid over alpha & l1_ratio\n",
    "param_grid = {'alpha': 10. ** np.arange(-3, 3), 'l1_ratio':[.1, .5, .9]}\n",
    "\n",
    "# Warp \n",
    "model = GridSearchCV(lm.ElasticNet(max_iter=10000), param_grid, cv=5)"
   ]
  },
  {
   "cell_type": "markdown",
   "metadata": {},
   "source": [
    "### Regression models with built-in cross-validation\n",
    "\n",
    "Sklearn will automatically select a grid of parameters, most of time use the defaults values.\n",
    "\n",
    "``n_jobs`` is the number of CPUs to use during the cross validation. If -1, use all the CPUs.\n"
   ]
  },
  {
   "cell_type": "markdown",
   "metadata": {},
   "source": [
    "1) Biased usage: fit on all data, ommit outer CV loop                 "
   ]
  },
  {
   "cell_type": "code",
   "execution_count": null,
   "metadata": {},
   "outputs": [],
   "source": [
    "model.fit(X, y)\n",
    "print(\"Train r2:%.2f\" % metrics.r2_score(y, model.predict(X)))\n",
    "print(model.best_params_)"
   ]
  },
  {
   "cell_type": "markdown",
   "metadata": {},
   "source": [
    "2) User made outer CV, useful to extract specific information "
   ]
  },
  {
   "cell_type": "code",
   "execution_count": null,
   "metadata": {},
   "outputs": [],
   "source": [
    "cv = KFold(n_splits=5, random_state=42)\n",
    "r2_train, r2_test = list(), list() \n",
    "alphas = list()\n",
    "\n",
    "for train, test in cv.split(X, y):\n",
    "    X_train, X_test, y_train, y_test = X[train, :], X[test, :], y[train], y[test]\n",
    "    model.fit(X_train, y_train)\n",
    "    \n",
    "    r2_test.append(metrics.r2_score(y_test, model.predict(X_test)))\n",
    "    r2_train.append(metrics.r2_score(y_train, model.predict(X_train)))\n",
    "\n",
    "    alphas.append(model.best_params_)\n",
    "\n",
    "print(\"Train r2:%.2f\" % np.mean(r2_train))\n",
    "print(\"Test  r2:%.2f\" % np.mean(r2_test))\n",
    "print(\"Selected alphas:\", alphas)"
   ]
  },
  {
   "cell_type": "markdown",
   "metadata": {},
   "source": [
    "3) User-friendly sklearn for outer CV"
   ]
  },
  {
   "cell_type": "code",
   "execution_count": null,
   "metadata": {},
   "outputs": [],
   "source": [
    "from sklearn.model_selection import cross_val_score\n",
    "scores = cross_val_score(estimator=model, X=X, y=y, cv=cv)\n",
    "print(\"Test  r2:%.2f\" % scores.mean())"
   ]
  },
  {
   "cell_type": "code",
   "execution_count": null,
   "metadata": {},
   "outputs": [],
   "source": [
    "from sklearn import datasets\n",
    "import sklearn.linear_model as lm\n",
    "import sklearn.metrics as metrics\n",
    "from sklearn.model_selection import cross_val_score\n",
    "\n",
    "# Dataset\n",
    "X, y, coef = datasets.make_regression(n_samples=50, n_features=100, noise=10,\n",
    "                         n_informative=2, random_state=42, coef=True)\n",
    " \n",
    "\n",
    "print(\"== Ridge (L2 penalty) ==\")\n",
    "model = lm.RidgeCV(cv=3)\n",
    "# Let sklearn select a list of alphas with default LOO-CV\n",
    "scores = cross_val_score(estimator=model, X=X, y=y, cv=5)\n",
    "print(\"Test  r2:%.2f\" % scores.mean())\n",
    "\n",
    "print(\"== Lasso (L1 penalty) ==\")\n",
    "model = lm.LassoCV(n_jobs=-1, cv=3)\n",
    "# Let sklearn select a list of alphas with default 3CV\n",
    "scores = cross_val_score(estimator=model, X=X, y=y, cv=5)\n",
    "print(\"Test  r2:%.2f\" % scores.mean())\n",
    "\n",
    "print(\"== ElasticNet (L1 penalty) ==\")\n",
    "model = lm.ElasticNetCV(l1_ratio=[.1, .5, .9], n_jobs=-1, cv=3)\n",
    "# Let sklearn select a list of alphas with default 3CV\n",
    "scores = cross_val_score(estimator=model, X=X, y=y, cv=5)\n",
    "print(\"Test  r2:%.2f\" % scores.mean())"
   ]
  },
  {
   "cell_type": "markdown",
   "metadata": {},
   "source": [
    "### Classification models with built-in cross-validation"
   ]
  },
  {
   "cell_type": "code",
   "execution_count": null,
   "metadata": {},
   "outputs": [],
   "source": [
    "from sklearn import datasets\n",
    "import sklearn.linear_model as lm\n",
    "import sklearn.metrics as metrics\n",
    "from sklearn.model_selection import cross_val_score\n",
    "\n",
    "X, y = datasets.make_classification(n_samples=100, n_features=100, \n",
    "                         n_informative=10, random_state=42)\n",
    "\n",
    "# provide CV and score\n",
    "def balanced_acc(estimator, X, y, **kwargs):\n",
    "    '''\n",
    "    Balanced accuracy scorer\n",
    "    '''\n",
    "    return metrics.recall_score(y, estimator.predict(X), average=None).mean()\n",
    "\n",
    "print(\"== Logistic Ridge (L2 penalty) ==\")\n",
    "model = lm.LogisticRegressionCV(class_weight='balanced', scoring=balanced_acc, n_jobs=-1, cv=3)\n",
    "# Let sklearn select a list of alphas with default LOO-CV\n",
    "scores = cross_val_score(estimator=model, X=X, y=y, cv=5)\n",
    "print(\"Test  ACC:%.2f\" % scores.mean())"
   ]
  },
  {
   "cell_type": "markdown",
   "metadata": {},
   "source": [
    "## Random Permutations: sample the null distribution\n",
    "\n",
    "A permutation test is a type of non-parametric randomization test in which the null distribution of a test statistic is estimated by randomly permuting the observations.\n",
    "\n",
    "Permutation tests are highly attractive because they make no assumptions other than that the observations are independent and identically distributed under the null hypothesis.\n",
    "\n",
    "1. Compute a observed statistic $t_{obs}$ on the data. \n",
    "2. Use randomization to compute the distribution of $t$ under the null hypothesis: Perform $N$ random permutation of the data. For each sample of permuted data, $i$ the data compute the statistic $t_i$. This procedure provides the distribution of $t$ under the null hypothesis $H_0$: $P(t \\vert H_0)$\n",
    "3. Compute the p-value = $P(t>t_{obs} | H_0) \\left\\vert\\{t_i > t_{obs}\\}\\right\\vert$, where $t_i$'s include $t_{obs}$.\n",
    "\n",
    "### Example Ridge regression\n",
    "\n",
    "Sample the distributions of r-squared and coefficients of ridge regression under the null hypothesis. Simulated dataset:"
   ]
  },
  {
   "cell_type": "code",
   "execution_count": null,
   "metadata": {},
   "outputs": [],
   "source": [
    "import numpy as np\n",
    "import sklearn.linear_model as lm\n",
    "import sklearn.metrics as metrics\n",
    "import pandas as pd\n",
    "\n",
    "# Regression dataset\n",
    "np.random.seed(0)\n",
    "n_features = 5\n",
    "n_features_info = 2\n",
    "n_samples = 100\n",
    "X = np.random.randn(n_samples, n_features)\n",
    "beta = np.zeros(n_features)\n",
    "beta[:n_features_info] = 1\n",
    "Xbeta = np.dot(X, beta)\n",
    "eps = np.random.randn(n_samples)\n",
    "y = Xbeta + eps"
   ]
  },
  {
   "cell_type": "markdown",
   "metadata": {},
   "source": [
    "Random permutations "
   ]
  },
  {
   "cell_type": "code",
   "execution_count": null,
   "metadata": {},
   "outputs": [],
   "source": [
    "# Fit model on all data (!! risk of overfit)\n",
    "model = lm.RidgeCV()\n",
    "model.fit(X, y)\n",
    "print(\"Coefficients on all data:\")\n",
    "print(model.coef_)\n",
    "\n",
    "# Random permutation loop\n",
    "nperm = 1000  # !! Should be at least 1000 (to assess a p-value at 1%)\n",
    "scores_names = [\"r2\"]\n",
    "scores_perm = np.zeros((nperm + 1, len(scores_names)))\n",
    "coefs_perm = np.zeros((nperm + 1, X.shape[1]))\n",
    "\n",
    "scores_perm[0, :] = metrics.r2_score(y, model.predict(X))\n",
    "coefs_perm[0, :] = model.coef_\n",
    "\n",
    "orig_all = np.arange(X.shape[0])\n",
    "for perm_i in range(1, nperm + 1):\n",
    "    model.fit(X, np.random.permutation(y))\n",
    "    y_pred = model.predict(X).ravel()\n",
    "    scores_perm[perm_i, :] = metrics.r2_score(y, y_pred)\n",
    "    coefs_perm[perm_i, :] = model.coef_\n",
    "\n",
    "\n",
    "# One-tailed empirical p-value\n",
    "pval_pred_perm = np.sum(scores_perm >= scores_perm[0]) / scores_perm.shape[0]\n",
    "pval_coef_perm = np.sum(coefs_perm >= coefs_perm[0, :], axis=0) / coefs_perm.shape[0]\n",
    "\n",
    "print(\"R2 p-value: %.3f\" % pval_pred_perm)\n",
    "print(\"Coeficients p-values:\", np.round(pval_coef_perm, 3))"
   ]
  },
  {
   "cell_type": "code",
   "execution_count": null,
   "metadata": {},
   "outputs": [],
   "source": [
    "# Plot distribution of third coefficient under null-hypothesis\n",
    "perms = coefs_perm[:, 2]\n",
    "\n",
    "# Re-weight to obtain distribution\n",
    "weights = np.ones(perms.shape[0]) / perms.shape[0]\n",
    "plt.hist([perms[perms >= perms[0]], perms], histtype='stepfilled', \n",
    "         bins=100, label=[\"beta>beta obs (p-value)\", \"beta<beta obs\"], \n",
    "         weights=[weights[perms >= perms[0]], weights])\n",
    "\n",
    "plt.xlabel(\"Statistic distribution under null hypothesis\")\n",
    "plt.axvline(x=perms[0], color='blue', linewidth=1, label=\"observed statistic\")\n",
    "_ = plt.legend(loc=\"upper left\")"
   ]
  },
  {
   "cell_type": "markdown",
   "metadata": {},
   "source": [
    "### Exercise\n",
    "\n",
    "Given the logistic regression presented above and its validation given a 5 folds CV.\n",
    "\n",
    "1. Compute the p-value associated with the prediction accuracy measured with 5CV using a permutation test.\n",
    "\n",
    "2. Compute the p-value associated with the prediction accuracy using a parametric test."
   ]
  },
  {
   "cell_type": "markdown",
   "metadata": {},
   "source": [
    "## Bootstrapping\n",
    "\n",
    "Bootstrapping is a statistical technique which consists in generating sample (called bootstrap samples) from an initial dataset of size $N$ by randomly drawing with replacement $N$ observations. It provides sub-samples with the same distribution than the original dataset. It aims to:\n",
    "\n",
    "1. Assess the variability (standard error, [confidence intervals.](https://sebastianraschka.com/blog/2016/model-evaluation-selection-part2.html#the-bootstrap-method-and-empirical-confidence-intervals)) of performances scores or estimated parameters.\n",
    "2. Regularize model by fitting several models on bootstrap samples and averaging their predictions (see Baging and random-forest). \n",
    "\n",
    "A great advantage of bootstrap is its simplicity. It is a straightforward way to derive estimates of standard errors and confidence intervals for complex estimators of complex parameters of the distribution, such as percentile points, proportions, odds ratio, and correlation coefficients. \n",
    "\n",
    "1. Perform $B$ sampling, with replacement, of the dataset.\n",
    "2. For each sample $i$ fit the model and compute the scores.\n",
    "3. Assess standard errors and confidence intervals of scores using the scores obtained on the $B$ resampled dataset. Or, average models predictions."
   ]
  },
  {
   "cell_type": "code",
   "execution_count": null,
   "metadata": {},
   "outputs": [],
   "source": [
    "import pandas as pd\n",
    "\n",
    "\n",
    "# Bootstrap loop\n",
    "nboot = 100  # !! Should be at least 1000\n",
    "scores_names = [\"r2\"]\n",
    "scores_boot = np.zeros((nboot, len(scores_names)))\n",
    "coefs_boot = np.zeros((nboot, X.shape[1]))\n",
    "\n",
    "orig_all = np.arange(X.shape[0])\n",
    "for boot_i in range(nboot):\n",
    "    boot_tr = np.random.choice(orig_all, size=len(orig_all), replace=True)\n",
    "    boot_te = np.setdiff1d(orig_all, boot_tr, assume_unique=False)\n",
    "    Xtr, ytr = X[boot_tr, :], y[boot_tr]\n",
    "    Xte, yte = X[boot_te, :], y[boot_te]\n",
    "    model.fit(Xtr, ytr)\n",
    "    y_pred = model.predict(Xte).ravel()\n",
    "    scores_boot[boot_i, :] = metrics.r2_score(yte, y_pred)\n",
    "    coefs_boot[boot_i, :] = model.coef_\n",
    "\n",
    "# Compute Mean, SE, CI\n",
    "scores_boot = pd.DataFrame(scores_boot, columns=scores_names)\n",
    "scores_stat = scores_boot.describe(percentiles=[.975, .5, .025])\n",
    "\n",
    "print(\"r-squared: Mean=%.2f, SE=%.2f, CI=(%.2f %.2f)\" %\\\n",
    "      tuple(scores_stat.loc[[\"mean\", \"std\", \"2.5%\", \"97.5%\"], \"r2\"]))\n",
    "\n",
    "coefs_boot = pd.DataFrame(coefs_boot)\n",
    "coefs_stat = coefs_boot.describe(percentiles=[.975, .5, .025])\n",
    "print(\"Coefficients distribution\")\n",
    "print(coefs_stat)"
   ]
  },
  {
   "cell_type": "code",
   "execution_count": null,
   "metadata": {},
   "outputs": [],
   "source": []
  }
 ],
 "metadata": {
  "anaconda-cloud": {},
  "kernelspec": {
   "display_name": "Python 3",
   "language": "python",
   "name": "python3"
  },
  "language_info": {
   "codemirror_mode": {
    "name": "ipython",
    "version": 3
   },
   "file_extension": ".py",
   "mimetype": "text/x-python",
   "name": "python",
   "nbconvert_exporter": "python",
   "pygments_lexer": "ipython3",
   "version": "3.7.9"
  }
 },
 "nbformat": 4,
 "nbformat_minor": 2
}
